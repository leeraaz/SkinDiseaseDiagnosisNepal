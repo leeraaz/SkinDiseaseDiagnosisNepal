{
 "cells": [
  {
   "cell_type": "code",
   "execution_count": 3,
   "metadata": {},
   "outputs": [],
   "source": [
    "import numpy as np\n",
    "from sklearn.model_selection import train_test_split\n",
    "from sklearn.neighbors import KNeighborsClassifier\n",
    "from sklearn.ensemble import RandomForestClassifier\n",
    "from sklearn.metrics import accuracy_score\n",
    "from tensorflow.keras.models import load_model, Model"
   ]
  },
  {
   "cell_type": "code",
   "execution_count": 2,
   "metadata": {},
   "outputs": [
    {
     "ename": "NameError",
     "evalue": "name 'Model' is not defined",
     "output_type": "error",
     "traceback": [
      "\u001b[0;31m---------------------------------------------------------------------------\u001b[0m",
      "\u001b[0;31mNameError\u001b[0m                                 Traceback (most recent call last)",
      "Cell \u001b[0;32mIn[2], line 23\u001b[0m\n\u001b[1;32m     20\u001b[0m     \u001b[38;5;28;01mreturn\u001b[39;00m features, labels\n\u001b[1;32m     22\u001b[0m \u001b[38;5;66;03m# Remove the dense and softmax layers to extract GAP features\u001b[39;00m\n\u001b[0;32m---> 23\u001b[0m feature_extractor \u001b[38;5;241m=\u001b[39m \u001b[43mModel\u001b[49m(inputs\u001b[38;5;241m=\u001b[39mmodel\u001b[38;5;241m.\u001b[39minput, outputs\u001b[38;5;241m=\u001b[39mmodel\u001b[38;5;241m.\u001b[39mlayers[\u001b[38;5;241m-\u001b[39m\u001b[38;5;241m3\u001b[39m]\u001b[38;5;241m.\u001b[39moutput)\n\u001b[1;32m     25\u001b[0m \u001b[38;5;66;03m# Extract features from training and validation data\u001b[39;00m\n\u001b[1;32m     26\u001b[0m train_features, train_labels \u001b[38;5;241m=\u001b[39m extract_features(feature_extractor, train_generator)\n",
      "\u001b[0;31mNameError\u001b[0m: name 'Model' is not defined"
     ]
    }
   ],
   "source": [
    "# Function to extract features using the hybrid model\n",
    "def extract_features(model, generator):\n",
    "    \"\"\"\n",
    "    Extract features from the hybrid model's Global Average Pooling layer.\n",
    "\n",
    "    Parameters:\n",
    "    - model: The trained hybrid model.\n",
    "    - generator: The data generator (e.g., train_generator, validation_generator).\n",
    "\n",
    "    Returns:\n",
    "    - features: A numpy array of extracted features.\n",
    "    - labels: Corresponding labels for the features.\n",
    "    \"\"\"\n",
    "    # Extract features\n",
    "    features = model.predict(generator, verbose=1)\n",
    "    \n",
    "    # Get the labels\n",
    "    labels = generator.classes\n",
    "    \n",
    "    return features, labels\n",
    "\n",
    "# Remove the dense and softmax layers to extract GAP features\n",
    "feature_extractor = Model(inputs=model.input, outputs=model.layers[-3].output)\n",
    "\n",
    "# Extract features from training and validation data\n",
    "train_features, train_labels = extract_features(feature_extractor, train_generator)\n",
    "val_features, val_labels = extract_features(feature_extractor, validation_generator)\n",
    "\n",
    "# Flatten the features if required by the classifier\n",
    "train_features_flat = train_features.reshape(train_features.shape[0], -1)\n",
    "val_features_flat = val_features.reshape(val_features.shape[0], -1)\n",
    "\n",
    "print(f\"Training feature shape: {train_features_flat.shape}\")\n",
    "print(f\"Validation feature shape: {val_features_flat.shape}\")"
   ]
  }
 ],
 "metadata": {
  "kernelspec": {
   "display_name": "3.9.4",
   "language": "python",
   "name": "python3"
  },
  "language_info": {
   "codemirror_mode": {
    "name": "ipython",
    "version": 3
   },
   "file_extension": ".py",
   "mimetype": "text/x-python",
   "name": "python",
   "nbconvert_exporter": "python",
   "pygments_lexer": "ipython3",
   "version": "3.9.4"
  }
 },
 "nbformat": 4,
 "nbformat_minor": 2
}

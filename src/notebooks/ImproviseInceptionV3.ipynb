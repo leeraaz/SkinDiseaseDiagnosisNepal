{
 "cells": [
  {
   "cell_type": "code",
   "execution_count": 1,
   "metadata": {},
   "outputs": [],
   "source": [
    "import os\n",
    "import tensorflow as tf\n",
    "from tensorflow.keras.preprocessing.image import ImageDataGenerator\n",
    "from tensorflow.keras.models import Model\n",
    "from tensorflow.keras.layers import Dense, GlobalAveragePooling2D, Dropout, BatchNormalization, Input\n",
    "from tensorflow.keras.optimizers import Adam\n",
    "from tensorflow.keras.applications import InceptionV3\n",
    "from tensorflow.keras.callbacks import EarlyStopping, ReduceLROnPlateau\n",
    "from sklearn.metrics import classification_report, confusion_matrix\n",
    "import numpy as np\n",
    "import matplotlib.pyplot as plt"
   ]
  },
  {
   "cell_type": "code",
   "execution_count": 2,
   "metadata": {},
   "outputs": [
    {
     "name": "stdout",
     "output_type": "stream",
     "text": [
      "Found 5999 images belonging to 4 classes.\n",
      "Found 1672 images belonging to 4 classes.\n"
     ]
    }
   ],
   "source": [
    "# Data Preparation\n",
    "train_dir = \"../../data4/train\"\n",
    "validation_dir = \"../../data4/validation\"\n",
    "batch_size = 32\n",
    "image_size = (299, 299)\n",
    "\n",
    "# Augment training data and rescale\n",
    "train_datagen = ImageDataGenerator(\n",
    "    rescale=1.0 / 255,\n",
    "    rotation_range=30,       # Random rotation\n",
    "    zoom_range=0.3,          # Random zoom\n",
    "    horizontal_flip=True,    # Random horizontal flip\n",
    "    brightness_range=[0.8, 1.2],  # Random brightness\n",
    "    width_shift_range=0.2,   # Horizontal shift\n",
    "    height_shift_range=0.2,  # Vertical shift\n",
    "    shear_range=0.2,         # Shearing\n",
    "    fill_mode=\"nearest\"      # Fill empty pixels\n",
    ")\n",
    "\n",
    "# Only rescale validation data\n",
    "validation_datagen = ImageDataGenerator(rescale=1.0 / 255)\n",
    "\n",
    "# Create training and validation generators\n",
    "train_generator = train_datagen.flow_from_directory(\n",
    "    train_dir,\n",
    "    target_size=image_size,\n",
    "    batch_size=batch_size,\n",
    "    class_mode='categorical'  # Changed to 'categorical' for multi-class classification\n",
    ")\n",
    "\n",
    "validation_generator = validation_datagen.flow_from_directory(\n",
    "    validation_dir,\n",
    "    target_size=image_size,\n",
    "    batch_size=batch_size,\n",
    "    class_mode='categorical'\n",
    ")\n",
    "\n",
    "# Extract number of classes\n",
    "num_classes = train_generator.num_classes\n"
   ]
  },
  {
   "cell_type": "code",
   "execution_count": 3,
   "metadata": {},
   "outputs": [],
   "source": [
    "\n",
    "# Build InceptionV3 Model\n",
    "def build_inceptionv3_model(num_classes):\n",
    "    inception_base = InceptionV3(weights='imagenet', include_top=False, input_shape=(299, 299, 3))\n",
    "    inception_base.trainable = False  # Freeze base model\n",
    "\n",
    "    input_tensor = Input(shape=(299, 299, 3))\n",
    "    x = inception_base(input_tensor)\n",
    "    x = GlobalAveragePooling2D()(x)\n",
    "    x = BatchNormalization()(x)\n",
    "    x = Dense(512, activation='relu')(x)\n",
    "    x = Dropout(0.5)(x)\n",
    "    output_tensor = Dense(num_classes, activation='softmax')(x)\n",
    "\n",
    "    model = Model(inputs=input_tensor, outputs=output_tensor)\n",
    "    return model\n",
    "\n",
    "model = build_inceptionv3_model(num_classes)\n",
    "model.compile(optimizer=Adam(learning_rate=1e-3), loss='categorical_crossentropy', metrics=['accuracy', 'AUC'])\n"
   ]
  },
  {
   "cell_type": "code",
   "execution_count": null,
   "metadata": {},
   "outputs": [
    {
     "name": "stdout",
     "output_type": "stream",
     "text": [
      "Epoch 1/50\n"
     ]
    },
    {
     "name": "stderr",
     "output_type": "stream",
     "text": [
      "/Users/liraj/.pyenv/versions/3.9.4/lib/python3.9/site-packages/keras/src/trainers/data_adapters/py_dataset_adapter.py:121: UserWarning: Your `PyDataset` class should call `super().__init__(**kwargs)` in its constructor. `**kwargs` can include `workers`, `use_multiprocessing`, `max_queue_size`. Do not pass these arguments to `fit()`, as they will be ignored.\n",
      "  self._warn_if_super_not_called()\n"
     ]
    },
    {
     "name": "stdout",
     "output_type": "stream",
     "text": [
      "\u001b[1m 18/188\u001b[0m \u001b[32m━\u001b[0m\u001b[37m━━━━━━━━━━━━━━━━━━━\u001b[0m \u001b[1m12:48\u001b[0m 5s/step - AUC: 0.7199 - accuracy: 0.4395 - loss: 1.8291"
     ]
    }
   ],
   "source": [
    "# Callbacks\n",
    "early_stopping = EarlyStopping(monitor='val_loss', patience=10, restore_best_weights=True)\n",
    "reduce_lr = ReduceLROnPlateau(monitor='val_loss', factor=0.2, patience=5, min_lr=1e-6)\n",
    "\n",
    "# Training the model\n",
    "history = model.fit(\n",
    "    train_generator,\n",
    "    validation_data=validation_generator,\n",
    "    epochs=20,\n",
    "    callbacks=[early_stopping, reduce_lr]\n",
    ")\n"
   ]
  },
  {
   "cell_type": "code",
   "execution_count": null,
   "metadata": {},
   "outputs": [],
   "source": [
    "# Evaluate the model\n",
    "val_loss, val_accuracy, val_auc = model.evaluate(validation_generator)\n",
    "print(f\"Validation Loss: {val_loss}\")\n",
    "print(f\"Validation Accuracy: {val_accuracy}\")\n",
    "print(f\"Validation AUC: {val_auc}\")\n"
   ]
  },
  {
   "cell_type": "code",
   "execution_count": null,
   "metadata": {},
   "outputs": [],
   "source": [
    "# Save the trained model\n",
    "model.save(\"../../models/Improved_inceptionV3_model.keras\")"
   ]
  },
  {
   "cell_type": "code",
   "execution_count": null,
   "metadata": {},
   "outputs": [],
   "source": [
    "# Classification Report and Confusion Matrix\n",
    "validation_generator.reset()\n",
    "predictions = model.predict(validation_generator)\n",
    "y_pred = np.argmax(predictions, axis=1)\n",
    "y_true = validation_generator.classes\n",
    "\n",
    "print(\"Classification Report\")\n",
    "print(classification_report(y_true, y_pred, target_names=list(validation_generator.class_indices.keys())))\n",
    "\n",
    "print(\"Confusion Matrix\")\n",
    "print(confusion_matrix(y_true, y_pred))"
   ]
  },
  {
   "cell_type": "code",
   "execution_count": null,
   "metadata": {},
   "outputs": [],
   "source": [
    "# Fine-Tune the Model\n",
    "def fine_tune_model(model, base_model, num_trainable_layers):\n",
    "    \"\"\"\n",
    "    Fine-tune the model by unfreezing the top layers of the base model.\n",
    "    Args:\n",
    "        model: The compiled model.\n",
    "        base_model: The pre-trained base model (e.g., InceptionV3).\n",
    "        num_trainable_layers: Number of layers to unfreeze at the top of the base model.\n",
    "    Returns:\n",
    "        A model ready for fine-tuning.\n",
    "    \"\"\"\n",
    "    # Unfreeze the top `num_trainable_layers` layers of the base model\n",
    "    for layer in base_model.layers[-num_trainable_layers:]:\n",
    "        layer.trainable = True\n",
    "    \n",
    "    # Compile the model with a lower learning rate\n",
    "    model.compile(\n",
    "        optimizer=Adam(learning_rate=1e-4),  # Smaller learning rate\n",
    "        loss='categorical_crossentropy',\n",
    "        metrics=['accuracy', 'AUC']\n",
    "    )\n",
    "    return model\n",
    "\n",
    "# Fine-tune 30 layers of the InceptionV3 base\n",
    "num_trainable_layers = 30\n",
    "model = fine_tune_model(model, model.layers[1], num_trainable_layers)\n",
    "\n",
    "# Continue training\n",
    "fine_tune_history = model.fit(\n",
    "    train_generator,\n",
    "    validation_data=validation_generator,\n",
    "    epochs=20,  # Shorter training for fine-tuning\n",
    "    callbacks=[early_stopping, reduce_lr]\n",
    ")\n",
    "\n",
    "# Evaluate the fine-tuned model\n",
    "val_loss, val_accuracy, val_auc = model.evaluate(validation_generator)\n",
    "print(f\"Validation Loss (Fine-tuned): {val_loss}\")\n",
    "print(f\"Validation Accuracy (Fine-tuned): {val_accuracy}\")\n",
    "print(f\"Validation AUC (Fine-tuned): {val_auc}\")\n"
   ]
  }
 ],
 "metadata": {
  "kernelspec": {
   "display_name": "3.9.4",
   "language": "python",
   "name": "python3"
  },
  "language_info": {
   "codemirror_mode": {
    "name": "ipython",
    "version": 3
   },
   "file_extension": ".py",
   "mimetype": "text/x-python",
   "name": "python",
   "nbconvert_exporter": "python",
   "pygments_lexer": "ipython3",
   "version": "3.9.4"
  }
 },
 "nbformat": 4,
 "nbformat_minor": 2
}

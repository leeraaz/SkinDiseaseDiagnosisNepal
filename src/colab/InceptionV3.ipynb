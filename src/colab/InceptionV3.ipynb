{
  "nbformat": 4,
  "nbformat_minor": 0,
  "metadata": {
    "colab": {
      "provenance": [],
      "machine_shape": "hm",
      "gpuType": "V5E1",
      "mount_file_id": "1uaX8_pV8XpUFAMhzwj5uv1iV1zQC0ROA",
      "authorship_tag": "ABX9TyPVjL0iW0XWzpq/6LKrzNF2",
      "include_colab_link": true
    },
    "kernelspec": {
      "name": "python3",
      "display_name": "Python 3"
    },
    "language_info": {
      "name": "python"
    },
    "accelerator": "TPU"
  },
  "cells": [
    {
      "cell_type": "markdown",
      "metadata": {
        "id": "view-in-github",
        "colab_type": "text"
      },
      "source": [
        "<a href=\"https://colab.research.google.com/github/leeraaz/SkinDiseaseDiagnosisNepal/blob/main/src/colab/InceptionV3.ipynb\" target=\"_parent\"><img src=\"https://colab.research.google.com/assets/colab-badge.svg\" alt=\"Open In Colab\"/></a>"
      ]
    },
    {
      "cell_type": "code",
      "source": [
        "pip install tensorflow==2.17.0"
      ],
      "metadata": {
        "colab": {
          "base_uri": "https://localhost:8080/"
        },
        "id": "lHY_gCBjsB8f",
        "outputId": "0c8e244d-62df-4339-ab4d-182136c83e8b"
      },
      "execution_count": null,
      "outputs": [
        {
          "output_type": "stream",
          "name": "stdout",
          "text": [
            "Collecting tensorflow==2.17.0\n",
            "  Downloading tensorflow-2.17.0-cp310-cp310-manylinux_2_17_x86_64.manylinux2014_x86_64.whl.metadata (4.2 kB)\n",
            "Requirement already satisfied: absl-py>=1.0.0 in /usr/local/lib/python3.10/dist-packages (from tensorflow==2.17.0) (1.4.0)\n",
            "Requirement already satisfied: astunparse>=1.6.0 in /usr/local/lib/python3.10/dist-packages (from tensorflow==2.17.0) (1.6.3)\n",
            "Requirement already satisfied: flatbuffers>=24.3.25 in /usr/local/lib/python3.10/dist-packages (from tensorflow==2.17.0) (24.3.25)\n",
            "Requirement already satisfied: gast!=0.5.0,!=0.5.1,!=0.5.2,>=0.2.1 in /usr/local/lib/python3.10/dist-packages (from tensorflow==2.17.0) (0.6.0)\n",
            "Requirement already satisfied: google-pasta>=0.1.1 in /usr/local/lib/python3.10/dist-packages (from tensorflow==2.17.0) (0.2.0)\n",
            "Requirement already satisfied: h5py>=3.10.0 in /usr/local/lib/python3.10/dist-packages (from tensorflow==2.17.0) (3.12.1)\n",
            "Requirement already satisfied: libclang>=13.0.0 in /usr/local/lib/python3.10/dist-packages (from tensorflow==2.17.0) (18.1.1)\n",
            "Collecting ml-dtypes<0.5.0,>=0.3.1 (from tensorflow==2.17.0)\n",
            "  Downloading ml_dtypes-0.4.1-cp310-cp310-manylinux_2_17_x86_64.manylinux2014_x86_64.whl.metadata (20 kB)\n",
            "Requirement already satisfied: opt-einsum>=2.3.2 in /usr/local/lib/python3.10/dist-packages (from tensorflow==2.17.0) (3.4.0)\n",
            "Requirement already satisfied: packaging in /usr/local/lib/python3.10/dist-packages (from tensorflow==2.17.0) (24.2)\n",
            "Requirement already satisfied: protobuf!=4.21.0,!=4.21.1,!=4.21.2,!=4.21.3,!=4.21.4,!=4.21.5,<5.0.0dev,>=3.20.3 in /usr/local/lib/python3.10/dist-packages (from tensorflow==2.17.0) (4.25.5)\n",
            "Requirement already satisfied: requests<3,>=2.21.0 in /usr/local/lib/python3.10/dist-packages (from tensorflow==2.17.0) (2.32.3)\n",
            "Requirement already satisfied: setuptools in /usr/local/lib/python3.10/dist-packages (from tensorflow==2.17.0) (75.1.0)\n",
            "Requirement already satisfied: six>=1.12.0 in /usr/local/lib/python3.10/dist-packages (from tensorflow==2.17.0) (1.17.0)\n",
            "Requirement already satisfied: termcolor>=1.1.0 in /usr/local/lib/python3.10/dist-packages (from tensorflow==2.17.0) (2.5.0)\n",
            "Requirement already satisfied: typing-extensions>=3.6.6 in /usr/local/lib/python3.10/dist-packages (from tensorflow==2.17.0) (4.12.2)\n",
            "Requirement already satisfied: wrapt>=1.11.0 in /usr/local/lib/python3.10/dist-packages (from tensorflow==2.17.0) (1.14.1)\n",
            "Requirement already satisfied: grpcio<2.0,>=1.24.3 in /usr/local/lib/python3.10/dist-packages (from tensorflow==2.17.0) (1.68.1)\n",
            "Collecting tensorboard<2.18,>=2.17 (from tensorflow==2.17.0)\n",
            "  Downloading tensorboard-2.17.1-py3-none-any.whl.metadata (1.6 kB)\n",
            "Collecting keras>=3.2.0 (from tensorflow==2.17.0)\n",
            "  Downloading keras-3.7.0-py3-none-any.whl.metadata (5.8 kB)\n",
            "Requirement already satisfied: tensorflow-io-gcs-filesystem>=0.23.1 in /usr/local/lib/python3.10/dist-packages (from tensorflow==2.17.0) (0.37.1)\n",
            "Requirement already satisfied: numpy<2.0.0,>=1.23.5 in /usr/local/lib/python3.10/dist-packages (from tensorflow==2.17.0) (1.26.4)\n",
            "Requirement already satisfied: wheel<1.0,>=0.23.0 in /usr/local/lib/python3.10/dist-packages (from astunparse>=1.6.0->tensorflow==2.17.0) (0.45.1)\n",
            "Requirement already satisfied: rich in /usr/local/lib/python3.10/dist-packages (from keras>=3.2.0->tensorflow==2.17.0) (13.9.4)\n",
            "Collecting namex (from keras>=3.2.0->tensorflow==2.17.0)\n",
            "  Downloading namex-0.0.8-py3-none-any.whl.metadata (246 bytes)\n",
            "Collecting optree (from keras>=3.2.0->tensorflow==2.17.0)\n",
            "  Downloading optree-0.13.1-cp310-cp310-manylinux_2_17_x86_64.manylinux2014_x86_64.whl.metadata (47 kB)\n",
            "\u001b[2K     \u001b[90m━━━━━━━━━━━━━━━━━━━━━━━━━━━━━━━━━━━━━━━━\u001b[0m \u001b[32m47.8/47.8 kB\u001b[0m \u001b[31m2.1 MB/s\u001b[0m eta \u001b[36m0:00:00\u001b[0m\n",
            "\u001b[?25hRequirement already satisfied: charset-normalizer<4,>=2 in /usr/local/lib/python3.10/dist-packages (from requests<3,>=2.21.0->tensorflow==2.17.0) (3.4.0)\n",
            "Requirement already satisfied: idna<4,>=2.5 in /usr/local/lib/python3.10/dist-packages (from requests<3,>=2.21.0->tensorflow==2.17.0) (3.10)\n",
            "Requirement already satisfied: urllib3<3,>=1.21.1 in /usr/local/lib/python3.10/dist-packages (from requests<3,>=2.21.0->tensorflow==2.17.0) (2.2.3)\n",
            "Requirement already satisfied: certifi>=2017.4.17 in /usr/local/lib/python3.10/dist-packages (from requests<3,>=2.21.0->tensorflow==2.17.0) (2024.12.14)\n",
            "Requirement already satisfied: markdown>=2.6.8 in /usr/local/lib/python3.10/dist-packages (from tensorboard<2.18,>=2.17->tensorflow==2.17.0) (3.7)\n",
            "Requirement already satisfied: tensorboard-data-server<0.8.0,>=0.7.0 in /usr/local/lib/python3.10/dist-packages (from tensorboard<2.18,>=2.17->tensorflow==2.17.0) (0.7.2)\n",
            "Requirement already satisfied: werkzeug>=1.0.1 in /usr/local/lib/python3.10/dist-packages (from tensorboard<2.18,>=2.17->tensorflow==2.17.0) (3.1.3)\n",
            "Requirement already satisfied: MarkupSafe>=2.1.1 in /usr/local/lib/python3.10/dist-packages (from werkzeug>=1.0.1->tensorboard<2.18,>=2.17->tensorflow==2.17.0) (3.0.2)\n",
            "Requirement already satisfied: markdown-it-py>=2.2.0 in /usr/local/lib/python3.10/dist-packages (from rich->keras>=3.2.0->tensorflow==2.17.0) (3.0.0)\n",
            "Requirement already satisfied: pygments<3.0.0,>=2.13.0 in /usr/local/lib/python3.10/dist-packages (from rich->keras>=3.2.0->tensorflow==2.17.0) (2.18.0)\n",
            "Requirement already satisfied: mdurl~=0.1 in /usr/local/lib/python3.10/dist-packages (from markdown-it-py>=2.2.0->rich->keras>=3.2.0->tensorflow==2.17.0) (0.1.2)\n",
            "Downloading tensorflow-2.17.0-cp310-cp310-manylinux_2_17_x86_64.manylinux2014_x86_64.whl (601.3 MB)\n",
            "\u001b[2K   \u001b[90m━━━━━━━━━━━━━━━━━━━━━━━━━━━━━━━━━━━━━━━━\u001b[0m \u001b[32m601.3/601.3 MB\u001b[0m \u001b[31m745.7 kB/s\u001b[0m eta \u001b[36m0:00:00\u001b[0m\n",
            "\u001b[?25hDownloading keras-3.7.0-py3-none-any.whl (1.2 MB)\n",
            "\u001b[2K   \u001b[90m━━━━━━━━━━━━━━━━━━━━━━━━━━━━━━━━━━━━━━━━\u001b[0m \u001b[32m1.2/1.2 MB\u001b[0m \u001b[31m58.3 MB/s\u001b[0m eta \u001b[36m0:00:00\u001b[0m\n",
            "\u001b[?25hDownloading ml_dtypes-0.4.1-cp310-cp310-manylinux_2_17_x86_64.manylinux2014_x86_64.whl (2.2 MB)\n",
            "\u001b[2K   \u001b[90m━━━━━━━━━━━━━━━━━━━━━━━━━━━━━━━━━━━━━━━━\u001b[0m \u001b[32m2.2/2.2 MB\u001b[0m \u001b[31m85.0 MB/s\u001b[0m eta \u001b[36m0:00:00\u001b[0m\n",
            "\u001b[?25hDownloading tensorboard-2.17.1-py3-none-any.whl (5.5 MB)\n",
            "\u001b[2K   \u001b[90m━━━━━━━━━━━━━━━━━━━━━━━━━━━━━━━━━━━━━━━━\u001b[0m \u001b[32m5.5/5.5 MB\u001b[0m \u001b[31m125.9 MB/s\u001b[0m eta \u001b[36m0:00:00\u001b[0m\n",
            "\u001b[?25hDownloading namex-0.0.8-py3-none-any.whl (5.8 kB)\n",
            "Downloading optree-0.13.1-cp310-cp310-manylinux_2_17_x86_64.manylinux2014_x86_64.whl (381 kB)\n",
            "\u001b[2K   \u001b[90m━━━━━━━━━━━━━━━━━━━━━━━━━━━━━━━━━━━━━━━━\u001b[0m \u001b[32m381.3/381.3 kB\u001b[0m \u001b[31m34.2 MB/s\u001b[0m eta \u001b[36m0:00:00\u001b[0m\n",
            "\u001b[?25hInstalling collected packages: namex, optree, ml-dtypes, tensorboard, keras, tensorflow\n",
            "  Attempting uninstall: ml-dtypes\n",
            "    Found existing installation: ml-dtypes 0.2.0\n",
            "    Uninstalling ml-dtypes-0.2.0:\n",
            "      Successfully uninstalled ml-dtypes-0.2.0\n",
            "  Attempting uninstall: tensorboard\n",
            "    Found existing installation: tensorboard 2.15.2\n",
            "    Uninstalling tensorboard-2.15.2:\n",
            "      Successfully uninstalled tensorboard-2.15.2\n",
            "  Attempting uninstall: keras\n",
            "    Found existing installation: keras 2.15.0\n",
            "    Uninstalling keras-2.15.0:\n",
            "      Successfully uninstalled keras-2.15.0\n",
            "  Attempting uninstall: tensorflow\n",
            "    Found existing installation: tensorflow 2.15.0\n",
            "    Uninstalling tensorflow-2.15.0:\n",
            "      Successfully uninstalled tensorflow-2.15.0\n",
            "\u001b[31mERROR: pip's dependency resolver does not currently take into account all the packages that are installed. This behaviour is the source of the following dependency conflicts.\n",
            "tensorflow-text 2.15.0 requires tensorflow<2.16,>=2.15.0; platform_machine != \"arm64\" or platform_system != \"Darwin\", but you have tensorflow 2.17.0 which is incompatible.\n",
            "tf-keras 2.15.1 requires tensorflow<2.16,>=2.15, but you have tensorflow 2.17.0 which is incompatible.\u001b[0m\u001b[31m\n",
            "\u001b[0mSuccessfully installed keras-3.7.0 ml-dtypes-0.4.1 namex-0.0.8 optree-0.13.1 tensorboard-2.17.1 tensorflow-2.17.0\n"
          ]
        }
      ]
    },
    {
      "cell_type": "code",
      "execution_count": 2,
      "metadata": {
        "id": "oRiHDKcolRoC"
      },
      "outputs": [],
      "source": [
        "import os\n",
        "import numpy as np\n",
        "import tensorflow as tf\n",
        "\n",
        "from tensorflow.keras.preprocessing.image import ImageDataGenerator\n",
        "from tensorflow.keras.models import Model\n",
        "from tensorflow.keras.layers import (\n",
        "    Input,\n",
        "    GlobalAveragePooling2D,\n",
        "    Dense,\n",
        "    Dropout,\n",
        "    BatchNormalization\n",
        ")\n",
        "from tensorflow.keras.optimizers import Adam\n",
        "from tensorflow.keras.applications import InceptionV3\n",
        "from tensorflow.keras.callbacks import EarlyStopping, ReduceLROnPlateau\n",
        "\n",
        "from sklearn.metrics import classification_report, confusion_matrix\n",
        "from sklearn.utils.class_weight import compute_class_weight\n",
        "\n",
        "import matplotlib.pyplot as plt"
      ]
    },
    {
      "cell_type": "code",
      "source": [
        "# TPU Initialization\n",
        "try:\n",
        "    tpu = tf.distribute.cluster_resolver.TPUClusterResolver()  # Detect TPU\n",
        "    tf.config.experimental_connect_to_cluster(tpu)\n",
        "    tf.tpu.experimental.initialize_tpu_system(tpu)\n",
        "    strategy = tf.distribute.TPUStrategy(tpu)\n",
        "    print(\"Running on TPU:\", tpu.master())\n",
        "except ValueError:\n",
        "    strategy = tf.distribute.get_strategy()  # Default for CPU and GPU\n",
        "    print(\"Running on\", \"GPU\" if tf.config.list_physical_devices('GPU') else \"CPU\")"
      ],
      "metadata": {
        "colab": {
          "base_uri": "https://localhost:8080/"
        },
        "id": "e0AYLfsbmUHg",
        "outputId": "e3a0fab7-782b-4c90-a01c-5b366e9de40b"
      },
      "execution_count": 3,
      "outputs": [
        {
          "output_type": "stream",
          "name": "stdout",
          "text": [
            "Running on TPU: \n"
          ]
        }
      ]
    },
    {
      "cell_type": "code",
      "source": [
        "def create_generators(train_dir, test_dir, image_size=(299, 299), batch_size=32):\n",
        "    \"\"\"Creates train and validation generators using ImageDataGenerator.\"\"\"\n",
        "    # Augment training data and rescale\n",
        "    train_datagen = ImageDataGenerator(\n",
        "        rescale=1.0 / 255,\n",
        "        rotation_range=30,\n",
        "        zoom_range=0.3,\n",
        "        horizontal_flip=True,\n",
        "        brightness_range=[0.8, 1.2],\n",
        "        width_shift_range=0.2,\n",
        "        height_shift_range=0.2,\n",
        "        shear_range=0.2,\n",
        "        fill_mode=\"nearest\"\n",
        "    )\n",
        "\n",
        "    # Only rescale validation data\n",
        "    validation_datagen = ImageDataGenerator(rescale=1.0 / 255)\n",
        "\n",
        "    # Create training generator\n",
        "    train_generator = train_datagen.flow_from_directory(\n",
        "        train_dir,\n",
        "        target_size=image_size,\n",
        "        batch_size=batch_size,\n",
        "        class_mode='categorical'\n",
        "    )\n",
        "\n",
        "    # Create validation generator\n",
        "    validation_generator = validation_datagen.flow_from_directory(\n",
        "        test_dir,\n",
        "        target_size=image_size,\n",
        "        batch_size=batch_size,\n",
        "        class_mode='categorical'\n",
        "    )\n",
        "\n",
        "    return train_generator, validation_generator\n"
      ],
      "metadata": {
        "id": "0J1YIuNUmZ2K"
      },
      "execution_count": 4,
      "outputs": []
    },
    {
      "cell_type": "code",
      "source": [
        "def build_inceptionv3_model(num_classes):\n",
        "    \"\"\"\n",
        "    Builds an InceptionV3 model with top layers for classification.\n",
        "    The base is frozen to preserve pre-trained weights.\n",
        "    \"\"\"\n",
        "    inception_base = InceptionV3(\n",
        "        weights='imagenet',\n",
        "        include_top=False,\n",
        "        input_shape=(299, 299, 3)\n",
        "    )\n",
        "    # Freeze the base model\n",
        "    inception_base.trainable = False\n",
        "\n",
        "    # Build top layers\n",
        "    input_tensor = Input(shape=(299, 299, 3))\n",
        "    x = inception_base(input_tensor, training=False)\n",
        "    x = GlobalAveragePooling2D()(x)\n",
        "    x = BatchNormalization()(x)\n",
        "    x = Dense(512, activation='relu')(x)\n",
        "    x = Dropout(0.5)(x)\n",
        "    x = Dense(256, activation='relu')(x)\n",
        "    x = Dropout(0.3)(x)\n",
        "    output_tensor = Dense(num_classes, activation='softmax')(x)\n",
        "\n",
        "    model = Model(inputs=input_tensor, outputs=output_tensor)\n",
        "    return model\n"
      ],
      "metadata": {
        "id": "XEtr1YRAmdCS"
      },
      "execution_count": 5,
      "outputs": []
    },
    {
      "cell_type": "code",
      "source": [
        "def train_model(train_generator, validation_generator, strategy, initial_lr=1e-3, epochs=20):\n",
        "    \"\"\"Trains the model under a given strategy with specified hyperparameters.\"\"\"\n",
        "    # Compute number of classes\n",
        "    num_classes = train_generator.num_classes\n",
        "\n",
        "    # Compute class weights\n",
        "    class_weights = compute_class_weight(\n",
        "        class_weight='balanced',\n",
        "        classes=np.unique(train_generator.classes),\n",
        "        y=train_generator.classes\n",
        "    )\n",
        "    class_weights = dict(enumerate(class_weights))\n",
        "\n",
        "    # Build and compile model inside strategy scope\n",
        "    with strategy.scope():\n",
        "        model = build_inceptionv3_model(num_classes)\n",
        "        model.compile(\n",
        "            optimizer=Adam(learning_rate=initial_lr),\n",
        "            loss='categorical_crossentropy',\n",
        "            metrics=['accuracy', 'AUC']\n",
        "        )\n",
        "\n",
        "    # Define callbacks\n",
        "    early_stopping = EarlyStopping(\n",
        "        monitor='val_loss',\n",
        "        patience=5,\n",
        "        restore_best_weights=True\n",
        "    )\n",
        "    reduce_lr = ReduceLROnPlateau(\n",
        "        monitor='val_loss',\n",
        "        factor=0.2,\n",
        "        patience=5,\n",
        "        min_lr=1e-6\n",
        "    )\n",
        "\n",
        "    # Train the model\n",
        "    history = model.fit(\n",
        "        train_generator,\n",
        "        validation_data=validation_generator,\n",
        "        epochs=epochs,\n",
        "        class_weight=class_weights,\n",
        "        callbacks=[early_stopping, reduce_lr]\n",
        "    )\n",
        "    return model, history\n"
      ],
      "metadata": {
        "id": "xH2g56yZnPec"
      },
      "execution_count": 6,
      "outputs": []
    },
    {
      "cell_type": "code",
      "source": [
        "# Adjust these paths if you're using a different directory structure\n",
        "train_dir = '/content/drive/MyDrive/SkinDataset/data5/train'\n",
        "test_dir = '/content/drive/MyDrive/SkinDataset/data5/test'\n",
        "\n",
        "# Parameters\n",
        "batch_size = 32\n",
        "image_size = (299, 299)  # Best size for InceptionV3\n",
        "epochs = 20\n",
        "initial_lr = 1e-3\n",
        "\n",
        "# Create the data generators\n",
        "train_generator, validation_generator = create_generators(\n",
        "    train_dir=train_dir,\n",
        "    test_dir=test_dir,\n",
        "    image_size=image_size,\n",
        "    batch_size=batch_size\n",
        ")\n",
        "\n",
        "# Train the model\n",
        "model, history = train_model(\n",
        "    train_generator=train_generator,\n",
        "    validation_generator=validation_generator,\n",
        "    strategy=strategy,\n",
        "    initial_lr=initial_lr,\n",
        "    epochs=epochs\n",
        ")\n"
      ],
      "metadata": {
        "colab": {
          "base_uri": "https://localhost:8080/"
        },
        "id": "7zQzaynGnSVx",
        "outputId": "fee20e0b-6bef-49bb-a1a6-1a17501442e1"
      },
      "execution_count": 7,
      "outputs": [
        {
          "output_type": "stream",
          "name": "stdout",
          "text": [
            "Found 5999 images belonging to 4 classes.\n",
            "Found 2576 images belonging to 4 classes.\n",
            "Downloading data from https://storage.googleapis.com/tensorflow/keras-applications/inception_v3/inception_v3_weights_tf_dim_ordering_tf_kernels_notop.h5\n",
            "87910968/87910968 [==============================] - 0s 0us/step\n",
            "Epoch 1/20\n",
            "188/188 [==============================] - 1698s 9s/step - loss: 1.0440 - accuracy: 0.6109 - auc: 0.8487 - val_loss: 0.7833 - val_accuracy: 0.6988 - val_auc: 0.9078 - lr: 0.0010\n",
            "Epoch 2/20\n",
            "188/188 [==============================] - 141s 748ms/step - loss: 0.8013 - accuracy: 0.6708 - auc: 0.8928 - val_loss: 0.6937 - val_accuracy: 0.7139 - val_auc: 0.9200 - lr: 0.0010\n",
            "Epoch 3/20\n",
            "188/188 [==============================] - 141s 748ms/step - loss: 0.7345 - accuracy: 0.6938 - auc: 0.9078 - val_loss: 0.6639 - val_accuracy: 0.7337 - val_auc: 0.9249 - lr: 0.0010\n",
            "Epoch 4/20\n",
            "188/188 [==============================] - 142s 756ms/step - loss: 0.7176 - accuracy: 0.7001 - auc: 0.9123 - val_loss: 0.6489 - val_accuracy: 0.7465 - val_auc: 0.9282 - lr: 0.0010\n",
            "Epoch 5/20\n",
            "188/188 [==============================] - 141s 749ms/step - loss: 0.6988 - accuracy: 0.7096 - auc: 0.9167 - val_loss: 0.6378 - val_accuracy: 0.7345 - val_auc: 0.9307 - lr: 0.0010\n",
            "Epoch 6/20\n",
            "188/188 [==============================] - 140s 744ms/step - loss: 0.6824 - accuracy: 0.7260 - auc: 0.9204 - val_loss: 0.6344 - val_accuracy: 0.7477 - val_auc: 0.9324 - lr: 0.0010\n",
            "Epoch 7/20\n",
            "188/188 [==============================] - 141s 749ms/step - loss: 0.6517 - accuracy: 0.7363 - auc: 0.9268 - val_loss: 0.6164 - val_accuracy: 0.7531 - val_auc: 0.9361 - lr: 0.0010\n",
            "Epoch 8/20\n",
            "188/188 [==============================] - 152s 804ms/step - loss: 0.6482 - accuracy: 0.7430 - auc: 0.9289 - val_loss: 0.6024 - val_accuracy: 0.7651 - val_auc: 0.9393 - lr: 0.0010\n",
            "Epoch 9/20\n",
            "188/188 [==============================] - 144s 766ms/step - loss: 0.6544 - accuracy: 0.7438 - auc: 0.9275 - val_loss: 0.6003 - val_accuracy: 0.7632 - val_auc: 0.9392 - lr: 0.0010\n",
            "Epoch 10/20\n",
            "188/188 [==============================] - 145s 768ms/step - loss: 0.6360 - accuracy: 0.7405 - auc: 0.9305 - val_loss: 0.6061 - val_accuracy: 0.7550 - val_auc: 0.9370 - lr: 0.0010\n",
            "Epoch 11/20\n",
            "188/188 [==============================] - 144s 762ms/step - loss: 0.6172 - accuracy: 0.7471 - auc: 0.9347 - val_loss: 0.5969 - val_accuracy: 0.7605 - val_auc: 0.9394 - lr: 0.0010\n",
            "Epoch 12/20\n",
            "188/188 [==============================] - 143s 757ms/step - loss: 0.6156 - accuracy: 0.7543 - auc: 0.9354 - val_loss: 0.6087 - val_accuracy: 0.7613 - val_auc: 0.9400 - lr: 0.0010\n",
            "Epoch 13/20\n",
            "188/188 [==============================] - 143s 761ms/step - loss: 0.6061 - accuracy: 0.7550 - auc: 0.9375 - val_loss: 0.5850 - val_accuracy: 0.7706 - val_auc: 0.9436 - lr: 0.0010\n",
            "Epoch 14/20\n",
            "188/188 [==============================] - 143s 759ms/step - loss: 0.5836 - accuracy: 0.7603 - auc: 0.9414 - val_loss: 0.5752 - val_accuracy: 0.7787 - val_auc: 0.9446 - lr: 0.0010\n",
            "Epoch 15/20\n",
            "188/188 [==============================] - 143s 757ms/step - loss: 0.5816 - accuracy: 0.7696 - auc: 0.9418 - val_loss: 0.5949 - val_accuracy: 0.7698 - val_auc: 0.9428 - lr: 0.0010\n",
            "Epoch 16/20\n",
            "188/188 [==============================] - 141s 748ms/step - loss: 0.5972 - accuracy: 0.7623 - auc: 0.9393 - val_loss: 0.5672 - val_accuracy: 0.7768 - val_auc: 0.9447 - lr: 0.0010\n",
            "Epoch 17/20\n",
            "188/188 [==============================] - 150s 794ms/step - loss: 0.5783 - accuracy: 0.7688 - auc: 0.9427 - val_loss: 0.5826 - val_accuracy: 0.7725 - val_auc: 0.9427 - lr: 0.0010\n",
            "Epoch 18/20\n",
            "188/188 [==============================] - 148s 785ms/step - loss: 0.5722 - accuracy: 0.7723 - auc: 0.9444 - val_loss: 0.5651 - val_accuracy: 0.7780 - val_auc: 0.9460 - lr: 0.0010\n",
            "Epoch 19/20\n",
            "188/188 [==============================] - 143s 761ms/step - loss: 0.5706 - accuracy: 0.7781 - auc: 0.9452 - val_loss: 0.5712 - val_accuracy: 0.7741 - val_auc: 0.9466 - lr: 0.0010\n",
            "Epoch 20/20\n",
            "188/188 [==============================] - 142s 754ms/step - loss: 0.5637 - accuracy: 0.7745 - auc: 0.9453 - val_loss: 0.5568 - val_accuracy: 0.7919 - val_auc: 0.9490 - lr: 0.0010\n"
          ]
        }
      ]
    },
    {
      "cell_type": "code",
      "source": [
        "# Evaluate model performance\n",
        "val_steps = validation_generator.samples // validation_generator.batch_size\n",
        "validation_generator.reset()\n",
        "y_pred = model.predict(validation_generator, steps=val_steps, verbose=1)\n",
        "y_true = validation_generator.classes[:val_steps * validation_generator.batch_size]\n",
        "\n",
        "# Convert predictions to class indices\n",
        "y_pred_classes = np.argmax(y_pred, axis=1)\n",
        "\n",
        "print(\"Classification Report:\")\n",
        "print(classification_report(y_true, y_pred_classes,\n",
        "      target_names=validation_generator.class_indices.keys()))\n",
        "\n",
        "print(\"Confusion Matrix:\")\n",
        "print(confusion_matrix(y_true, y_pred_classes))\n"
      ],
      "metadata": {
        "id": "vee3PMAUn3Qx",
        "colab": {
          "base_uri": "https://localhost:8080/"
        },
        "outputId": "7ab1f403-c5f7-4173-ee6d-2415ff8e5465"
      },
      "execution_count": 8,
      "outputs": [
        {
          "output_type": "stream",
          "name": "stdout",
          "text": [
            "80/80 [==============================] - 55s 321ms/step\n",
            "Classification Report:\n",
            "              precision    recall  f1-score   support\n",
            "\n",
            "        Acne       0.26      0.29      0.28       626\n",
            "      Eczema       0.27      0.30      0.28       650\n",
            "   Infection       0.28      0.25      0.26       650\n",
            "   Malignant       0.26      0.24      0.25       634\n",
            "\n",
            "    accuracy                           0.27      2560\n",
            "   macro avg       0.27      0.27      0.27      2560\n",
            "weighted avg       0.27      0.27      0.27      2560\n",
            "\n",
            "Confusion Matrix:\n",
            "[[180 171 140 135]\n",
            " [173 195 136 146]\n",
            " [164 184 161 141]\n",
            " [163 172 147 152]]\n"
          ]
        }
      ]
    },
    {
      "cell_type": "code",
      "source": [
        "plt.figure(figsize=(12, 5))\n",
        "\n",
        "# Accuracy\n",
        "plt.subplot(1, 2, 1)\n",
        "plt.plot(history.history['accuracy'], label='Train Accuracy')\n",
        "plt.plot(history.history['val_accuracy'], label='Validation Accuracy')\n",
        "plt.title('Accuracy')\n",
        "plt.legend()\n",
        "\n",
        "# Loss\n",
        "plt.subplot(1, 2, 2)\n",
        "plt.plot(history.history['loss'], label='Train Loss')\n",
        "plt.plot(history.history['val_loss'], label='Validation Loss')\n",
        "plt.title('Loss')\n",
        "plt.legend()\n",
        "\n",
        "plt.show()\n"
      ],
      "metadata": {
        "id": "bbaVwH0tn5U8",
        "colab": {
          "base_uri": "https://localhost:8080/",
          "height": 468
        },
        "outputId": "7973278a-5594-4ae4-a257-c4137852fc2d"
      },
      "execution_count": 9,
      "outputs": [
        {
          "output_type": "display_data",
          "data": {
            "text/plain": [
              "<Figure size 1200x500 with 2 Axes>"
            ],
            "image/png": "[encoded data removed]"
          },
          "metadata": {}
        }
      ]
    },
    {
      "cell_type": "code",
      "source": [
        "# Save Model\n",
        "model.save(\"/content/drive/MyDrive/SkinDataset/hybrid_model_inceptionv3_tpu.keras\")"
      ],
      "metadata": {
        "id": "1gQjRyKz_myM"
      },
      "execution_count": 10,
      "outputs": []
    }
  ]
}